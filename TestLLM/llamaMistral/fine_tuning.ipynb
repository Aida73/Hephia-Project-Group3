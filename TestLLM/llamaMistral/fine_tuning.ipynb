{
 "cells": [
  {
   "cell_type": "code",
   "execution_count": 23,
   "metadata": {},
   "outputs": [],
   "source": [
    "import pandas as pd\n",
    "from textwrap3 import wrap"
   ]
  },
  {
   "cell_type": "code",
   "execution_count": 2,
   "metadata": {},
   "outputs": [],
   "source": [
    "medical_dataset= pd.read_csv('../../data/data.csv')"
   ]
  },
  {
   "cell_type": "code",
   "execution_count": 5,
   "metadata": {},
   "outputs": [
    {
     "data": {
      "text/plain": [
       "(16412, 2)"
      ]
     },
     "execution_count": 5,
     "metadata": {},
     "output_type": "execute_result"
    }
   ],
   "source": [
    "medical_dataset.shape"
   ]
  },
  {
   "cell_type": "code",
   "execution_count": 3,
   "metadata": {},
   "outputs": [
    {
     "data": {
      "text/html": [
       "<div>\n",
       "<style scoped>\n",
       "    .dataframe tbody tr th:only-of-type {\n",
       "        vertical-align: middle;\n",
       "    }\n",
       "\n",
       "    .dataframe tbody tr th {\n",
       "        vertical-align: top;\n",
       "    }\n",
       "\n",
       "    .dataframe thead th {\n",
       "        text-align: right;\n",
       "    }\n",
       "</style>\n",
       "<table border=\"1\" class=\"dataframe\">\n",
       "  <thead>\n",
       "    <tr style=\"text-align: right;\">\n",
       "      <th></th>\n",
       "      <th>user</th>\n",
       "      <th>assistant</th>\n",
       "    </tr>\n",
       "  </thead>\n",
       "  <tbody>\n",
       "    <tr>\n",
       "      <th>0</th>\n",
       "      <td>What is (are) Glaucoma ?</td>\n",
       "      <td>Glaucoma is a group of diseases that can damag...</td>\n",
       "    </tr>\n",
       "    <tr>\n",
       "      <th>1</th>\n",
       "      <td>What causes Glaucoma ?</td>\n",
       "      <td>Nearly 2.7 million people have glaucoma, a lea...</td>\n",
       "    </tr>\n",
       "    <tr>\n",
       "      <th>2</th>\n",
       "      <td>What are the symptoms of Glaucoma ?</td>\n",
       "      <td>Symptoms of Glaucoma  Glaucoma can develop in ...</td>\n",
       "    </tr>\n",
       "    <tr>\n",
       "      <th>3</th>\n",
       "      <td>What are the treatments for Glaucoma ?</td>\n",
       "      <td>Although open-angle glaucoma cannot be cured, ...</td>\n",
       "    </tr>\n",
       "    <tr>\n",
       "      <th>4</th>\n",
       "      <td>What is (are) Glaucoma ?</td>\n",
       "      <td>Glaucoma is a group of diseases that can damag...</td>\n",
       "    </tr>\n",
       "  </tbody>\n",
       "</table>\n",
       "</div>"
      ],
      "text/plain": [
       "                                     user  \\\n",
       "0                What is (are) Glaucoma ?   \n",
       "1                  What causes Glaucoma ?   \n",
       "2     What are the symptoms of Glaucoma ?   \n",
       "3  What are the treatments for Glaucoma ?   \n",
       "4                What is (are) Glaucoma ?   \n",
       "\n",
       "                                           assistant  \n",
       "0  Glaucoma is a group of diseases that can damag...  \n",
       "1  Nearly 2.7 million people have glaucoma, a lea...  \n",
       "2  Symptoms of Glaucoma  Glaucoma can develop in ...  \n",
       "3  Although open-angle glaucoma cannot be cured, ...  \n",
       "4  Glaucoma is a group of diseases that can damag...  "
      ]
     },
     "execution_count": 3,
     "metadata": {},
     "output_type": "execute_result"
    }
   ],
   "source": [
    "medical_dataset.head()"
   ]
  },
  {
   "cell_type": "code",
   "execution_count": 32,
   "metadata": {},
   "outputs": [
    {
     "name": "stdout",
     "output_type": "stream",
     "text": [
      "Question: What is (are) Glaucoma ?\n",
      "\n",
      "Réponse: Glaucoma is a group of diseases that can damage the eye's optic nerve and result in vision loss and blindness. While\n",
      "glaucoma can strike anyone, the risk is much greater for people over 60. How Glaucoma Develops  There are several different\n",
      "types of glaucoma. Most of these involve the drainage system within the eye. At the front of the eye there is a small space\n",
      "called the anterior chamber. A clear fluid flows through this chamber and bathes and nourishes the nearby tissues. (Watch the\n",
      "video to learn more about glaucoma. To enlarge the video, click the brackets in the lower right-hand corner. To reduce the\n",
      "video, press the Escape (Esc) button on your keyboard.) In glaucoma, for still unknown reasons, the fluid drains too slowly\n",
      "out of the eye. As the fluid builds up, the pressure inside the eye rises. Unless this pressure is controlled, it may cause\n",
      "damage to the optic nerve and other parts of the eye and result in loss of vision. Open-angle Glaucoma The most common type\n",
      "of glaucoma is called open-angle glaucoma. In the normal eye, the clear fluid leaves the anterior chamber at the open angle\n",
      "where the cornea and iris meet. When fluid reaches the angle, it flows through a spongy meshwork, like a drain, and leaves\n",
      "the eye. Sometimes, when the fluid reaches the angle, it passes too slowly through the meshwork drain, causing the pressure\n",
      "inside the eye to build. If the pressure damages the optic nerve, open-angle glaucoma -- and vision loss -- may result. There\n",
      "is no cure for glaucoma. Vision lost from the disease cannot be restored. However, there are treatments that may save\n",
      "remaining vision. That is why early diagnosis is important.  See this graphic for a quick overview of glaucoma,  including\n",
      "how many people it affects, whos at risk, what to do if you have it, and how to learn more.  See a glossary of glaucoma\n",
      "terms.\n"
     ]
    }
   ],
   "source": [
    "print(f\"Question: {medical_dataset.iloc[0].user}\\n\")\n",
    "print('\\n'.join(wrap(f\"Réponse: {medical_dataset.iloc[0].assistant}\",125, break_long_words=False)))"
   ]
  },
  {
   "cell_type": "code",
   "execution_count": 22,
   "metadata": {},
   "outputs": [
    {
     "name": "stdout",
     "output_type": "stream",
     "text": [
      "Collecting textwrap3\n",
      "  Downloading textwrap3-0.9.2-py2.py3-none-any.whl (12 kB)\n",
      "Installing collected packages: textwrap3\n",
      "Successfully installed textwrap3-0.9.2\n",
      "Note: you may need to restart the kernel to use updated packages.\n"
     ]
    }
   ],
   "source": [
    "%pip install textwrap3"
   ]
  },
  {
   "cell_type": "code",
   "execution_count": 34,
   "metadata": {},
   "outputs": [
    {
     "name": "stderr",
     "output_type": "stream",
     "text": [
      "tokenizer_config.json: 100%|██████████| 776/776 [00:00<00:00, 678kB/s]\n",
      "tokenizer.model: 100%|██████████| 500k/500k [00:00<00:00, 3.07MB/s]\n",
      "tokenizer.json: 100%|██████████| 1.84M/1.84M [00:00<00:00, 4.52MB/s]\n",
      "special_tokens_map.json: 100%|██████████| 414/414 [00:00<00:00, 784kB/s]\n"
     ]
    }
   ],
   "source": [
    "from transformers import AutoTokenizer\n",
    "\n",
    "tokenizer = AutoTokenizer.from_pretrained(\"TheBloke/Llama-2-7B-AWQ\")\n",
    "tokens = tokenizer.encode(\"Llama is great!\")"
   ]
  },
  {
   "cell_type": "markdown",
   "metadata": {},
   "source": [
    "Il existe un certain nombre de stratégies pour rendre le training dans le fine-tuning plus rapide et plus efficace:\n",
    "1- Parameter-Efficient Fine-Tuning (PEFT): Un LLM est une matrice, un tableau rempli de nombres (poids) qui déterminent son comportement. Le réglage fin traditionnel consiste généralement à modifier légèrement tous ces poids en fonction des nouvelles données. PEFT met en œuvre un certain nombre de techniques qui permettent de réduire les besoins en mémoire tout en accélérant le réglage fin en gelant la plupart des paramètres et en n'entraînant qu'un sous-ensemble d'entre eux. La technique PEFT la plus populaire est l'adaptation de faible rang (LoRA). Au lieu de modifier directement la matrice de poids originale, LoRA met simplement à jour une matrice plus petite, l'adaptateur de \"faible rang\". Ce petit adaptateur capture les changements essentiels nécessaires à la nouvelle tâche, tout en conservant la matrice d'origine figée. Pour obtenir les résultats finaux, vous combinez les poids de l'adaptateur original et ceux de l'adaptateur entraîné.\n",
    "\n",
    "Étant donné que seul un petit sous-ensemble de poids est mis à jour lors de l'ajustement fin avec LoRA, celui-ci est nettement plus rapide que l'ajustement fin traditionnel. En outre, au lieu de produire un nouveau modèle complet, le modèle \"adaptateur\" supplémentaire peut être enregistré séparément, ce qui réduit considérablement l'empreinte mémoire.\n",
    "\n",
    "2- Quantization\n",
    "La quantification consiste à convertir les nombres à virgule flottante qui représentent les poids et les activations du modèle en nombres entiers.\n",
    "\n",
    "Par exemple, dans la quantification à 8 bits, la plage continue des valeurs à virgule flottante est convertie en 256 valeurs entières discrètes. Cela permet de réduire considérablement la taille du modèle par rapport à la représentation originale en virgule flottante sur 32 bits.\n",
    "\n",
    "QLoRA est une approche de réglage fin récemment développée qui utilise la quantification pour rendre LoRA encore plus efficace en termes de mémoire, ce qui vous permet de régler avec précision de très grands modèles sur du matériel modeste.\n",
    "\n",
    "3- Distribued Training:\n",
    "L'apprentissage distribué est utile lorsque l'apprentissage d'un modèle sur un seul GPU est trop lent ou que les poids du modèle ne tiennent pas dans un seul GPU. Le fait que plusieurs GPU gèrent leur propre fraction de l'état et des données d'apprentissage permet de maximiser le débit, c'est-à-dire la quantité d'échantillons que nous pouvons traiter par unité de temps. Il existe quelques frameworks facilement disponibles pour aider à paralléliser les calculs sur plusieurs GPU : ZeRO with DeepSpeed, FSDP\n",
    "\n",
    "\n"
   ]
  },
  {
   "cell_type": "code",
   "execution_count": 7,
   "metadata": {},
   "outputs": [
    {
     "name": "stderr",
     "output_type": "stream",
     "text": [
      "/Users/user/Desktop/M2-DataScale/Projet_Transversal/medical-chatbot-project/TestLLM/env/lib/python3.11/site-packages/numpy/core/fromnumeric.py:59: FutureWarning: 'DataFrame.swapaxes' is deprecated and will be removed in a future version. Please use 'DataFrame.transpose' instead.\n",
      "  return bound(*args, **kwds)\n"
     ]
    }
   ],
   "source": [
    "import numpy as np\n",
    "import pandas as pd\n",
    "data = pd.read_csv('../../data/data.csv')\n",
    "train, validate, test = np.split(data.sample(frac=1, random_state=42),\n",
    "                                 [int(.6*len(data)), int(.8*len(data))]\n",
    ")"
   ]
  },
  {
   "cell_type": "code",
   "execution_count": 8,
   "metadata": {},
   "outputs": [
    {
     "data": {
      "text/html": [
       "<div>\n",
       "<style scoped>\n",
       "    .dataframe tbody tr th:only-of-type {\n",
       "        vertical-align: middle;\n",
       "    }\n",
       "\n",
       "    .dataframe tbody tr th {\n",
       "        vertical-align: top;\n",
       "    }\n",
       "\n",
       "    .dataframe thead th {\n",
       "        text-align: right;\n",
       "    }\n",
       "</style>\n",
       "<table border=\"1\" class=\"dataframe\">\n",
       "  <thead>\n",
       "    <tr style=\"text-align: right;\">\n",
       "      <th></th>\n",
       "      <th>user</th>\n",
       "      <th>assistant</th>\n",
       "    </tr>\n",
       "  </thead>\n",
       "  <tbody>\n",
       "    <tr>\n",
       "      <th>10547</th>\n",
       "      <td>What are the genetic changes related to leukoe...</td>\n",
       "      <td>LBSL is caused by mutations in the DARS2 gene,...</td>\n",
       "    </tr>\n",
       "    <tr>\n",
       "      <th>15995</th>\n",
       "      <td>What to do for Primary Biliary Cirrhosis ?</td>\n",
       "      <td>A healthy diet is important in all stages of c...</td>\n",
       "    </tr>\n",
       "    <tr>\n",
       "      <th>15841</th>\n",
       "      <td>Who is at risk for Fecal Incontinence? ?</td>\n",
       "      <td>Nearly 18 million U.S. adultsabout one in 12ha...</td>\n",
       "    </tr>\n",
       "    <tr>\n",
       "      <th>8994</th>\n",
       "      <td>What is (are) Pervasive Developmental Disorders ?</td>\n",
       "      <td>The diagnostic category of pervasive developme...</td>\n",
       "    </tr>\n",
       "    <tr>\n",
       "      <th>2518</th>\n",
       "      <td>What are the symptoms of Crome syndrome ?</td>\n",
       "      <td>What are the signs and symptoms of Crome syndr...</td>\n",
       "    </tr>\n",
       "    <tr>\n",
       "      <th>...</th>\n",
       "      <td>...</td>\n",
       "      <td>...</td>\n",
       "    </tr>\n",
       "    <tr>\n",
       "      <th>6578</th>\n",
       "      <td>Is Chromosome 3p- syndrome inherited ?</td>\n",
       "      <td>Is chromosome 3p- syndrome inherited? In most ...</td>\n",
       "    </tr>\n",
       "    <tr>\n",
       "      <th>2799</th>\n",
       "      <td>What are the symptoms of Cerebellar degenerati...</td>\n",
       "      <td>What are the signs and symptoms of cerebellar ...</td>\n",
       "    </tr>\n",
       "    <tr>\n",
       "      <th>4306</th>\n",
       "      <td>What are the symptoms of Cutaneous mastocytoma ?</td>\n",
       "      <td>What are the signs and symptoms of Cutaneous m...</td>\n",
       "    </tr>\n",
       "    <tr>\n",
       "      <th>11937</th>\n",
       "      <td>What are the genetic changes related to mannos...</td>\n",
       "      <td>Relatively common mutations in the MBL2 gene c...</td>\n",
       "    </tr>\n",
       "    <tr>\n",
       "      <th>13183</th>\n",
       "      <td>Is alpha-1 antitrypsin deficiency inherited ?</td>\n",
       "      <td>This condition is inherited in an autosomal co...</td>\n",
       "    </tr>\n",
       "  </tbody>\n",
       "</table>\n",
       "<p>9847 rows × 2 columns</p>\n",
       "</div>"
      ],
      "text/plain": [
       "                                                    user  \\\n",
       "10547  What are the genetic changes related to leukoe...   \n",
       "15995         What to do for Primary Biliary Cirrhosis ?   \n",
       "15841           Who is at risk for Fecal Incontinence? ?   \n",
       "8994   What is (are) Pervasive Developmental Disorders ?   \n",
       "2518           What are the symptoms of Crome syndrome ?   \n",
       "...                                                  ...   \n",
       "6578              Is Chromosome 3p- syndrome inherited ?   \n",
       "2799   What are the symptoms of Cerebellar degenerati...   \n",
       "4306    What are the symptoms of Cutaneous mastocytoma ?   \n",
       "11937  What are the genetic changes related to mannos...   \n",
       "13183      Is alpha-1 antitrypsin deficiency inherited ?   \n",
       "\n",
       "                                               assistant  \n",
       "10547  LBSL is caused by mutations in the DARS2 gene,...  \n",
       "15995  A healthy diet is important in all stages of c...  \n",
       "15841  Nearly 18 million U.S. adultsabout one in 12ha...  \n",
       "8994   The diagnostic category of pervasive developme...  \n",
       "2518   What are the signs and symptoms of Crome syndr...  \n",
       "...                                                  ...  \n",
       "6578   Is chromosome 3p- syndrome inherited? In most ...  \n",
       "2799   What are the signs and symptoms of cerebellar ...  \n",
       "4306   What are the signs and symptoms of Cutaneous m...  \n",
       "11937  Relatively common mutations in the MBL2 gene c...  \n",
       "13183  This condition is inherited in an autosomal co...  \n",
       "\n",
       "[9847 rows x 2 columns]"
      ]
     },
     "execution_count": 8,
     "metadata": {},
     "output_type": "execute_result"
    }
   ],
   "source": [
    "train"
   ]
  },
  {
   "cell_type": "code",
   "execution_count": 5,
   "metadata": {},
   "outputs": [
    {
     "data": {
      "text/html": [
       "<div>\n",
       "<style scoped>\n",
       "    .dataframe tbody tr th:only-of-type {\n",
       "        vertical-align: middle;\n",
       "    }\n",
       "\n",
       "    .dataframe tbody tr th {\n",
       "        vertical-align: top;\n",
       "    }\n",
       "\n",
       "    .dataframe thead th {\n",
       "        text-align: right;\n",
       "    }\n",
       "</style>\n",
       "<table border=\"1\" class=\"dataframe\">\n",
       "  <thead>\n",
       "    <tr style=\"text-align: right;\">\n",
       "      <th></th>\n",
       "      <th>user</th>\n",
       "      <th>assistant</th>\n",
       "    </tr>\n",
       "  </thead>\n",
       "  <tbody>\n",
       "    <tr>\n",
       "      <th>7244</th>\n",
       "      <td>What are the symptoms of Juvenile idiopathic a...</td>\n",
       "      <td>What are the signs and symptoms of Juvenile id...</td>\n",
       "    </tr>\n",
       "    <tr>\n",
       "      <th>298</th>\n",
       "      <td>What is (are) Low Vision ?</td>\n",
       "      <td>Low vision is a visual impairment, not correct...</td>\n",
       "    </tr>\n",
       "    <tr>\n",
       "      <th>9241</th>\n",
       "      <td>what research (or clinical trials) is being do...</td>\n",
       "      <td>The National Institute of Neurological Disorde...</td>\n",
       "    </tr>\n",
       "    <tr>\n",
       "      <th>13457</th>\n",
       "      <td>What are the genetic changes related to autoso...</td>\n",
       "      <td>Autosomal recessive congenital methemoglobinem...</td>\n",
       "    </tr>\n",
       "    <tr>\n",
       "      <th>3823</th>\n",
       "      <td>What causes Erythromelalgia ?</td>\n",
       "      <td>What causes erythromelalgia? About 15% of case...</td>\n",
       "    </tr>\n",
       "    <tr>\n",
       "      <th>...</th>\n",
       "      <td>...</td>\n",
       "      <td>...</td>\n",
       "    </tr>\n",
       "    <tr>\n",
       "      <th>5784</th>\n",
       "      <td>What are the symptoms of Septo-optic dysplasia ?</td>\n",
       "      <td>What are the signs and symptoms of Septo-optic...</td>\n",
       "    </tr>\n",
       "    <tr>\n",
       "      <th>12232</th>\n",
       "      <td>What are the genetic changes related to oculop...</td>\n",
       "      <td>Mutations in the PABPN1 gene cause oculopharyn...</td>\n",
       "    </tr>\n",
       "    <tr>\n",
       "      <th>10422</th>\n",
       "      <td>What are the genetic changes related to Glanzm...</td>\n",
       "      <td>Mutations in the ITGA2B or ITGB3 gene cause Gl...</td>\n",
       "    </tr>\n",
       "    <tr>\n",
       "      <th>7569</th>\n",
       "      <td>What are the symptoms of Hyperlipoproteinemia ...</td>\n",
       "      <td>What are the signs and symptoms of Hyperlipopr...</td>\n",
       "    </tr>\n",
       "    <tr>\n",
       "      <th>14052</th>\n",
       "      <td>What are the genetic changes related to Krabbe...</td>\n",
       "      <td>Mutations in the GALC gene cause Krabbe diseas...</td>\n",
       "    </tr>\n",
       "  </tbody>\n",
       "</table>\n",
       "<p>3282 rows × 2 columns</p>\n",
       "</div>"
      ],
      "text/plain": [
       "                                                    user  \\\n",
       "7244   What are the symptoms of Juvenile idiopathic a...   \n",
       "298                           What is (are) Low Vision ?   \n",
       "9241   what research (or clinical trials) is being do...   \n",
       "13457  What are the genetic changes related to autoso...   \n",
       "3823                       What causes Erythromelalgia ?   \n",
       "...                                                  ...   \n",
       "5784    What are the symptoms of Septo-optic dysplasia ?   \n",
       "12232  What are the genetic changes related to oculop...   \n",
       "10422  What are the genetic changes related to Glanzm...   \n",
       "7569   What are the symptoms of Hyperlipoproteinemia ...   \n",
       "14052  What are the genetic changes related to Krabbe...   \n",
       "\n",
       "                                               assistant  \n",
       "7244   What are the signs and symptoms of Juvenile id...  \n",
       "298    Low vision is a visual impairment, not correct...  \n",
       "9241   The National Institute of Neurological Disorde...  \n",
       "13457  Autosomal recessive congenital methemoglobinem...  \n",
       "3823   What causes erythromelalgia? About 15% of case...  \n",
       "...                                                  ...  \n",
       "5784   What are the signs and symptoms of Septo-optic...  \n",
       "12232  Mutations in the PABPN1 gene cause oculopharyn...  \n",
       "10422  Mutations in the ITGA2B or ITGB3 gene cause Gl...  \n",
       "7569   What are the signs and symptoms of Hyperlipopr...  \n",
       "14052  Mutations in the GALC gene cause Krabbe diseas...  \n",
       "\n",
       "[3282 rows x 2 columns]"
      ]
     },
     "execution_count": 5,
     "metadata": {},
     "output_type": "execute_result"
    }
   ],
   "source": [
    "validate"
   ]
  },
  {
   "cell_type": "code",
   "execution_count": 6,
   "metadata": {},
   "outputs": [
    {
     "data": {
      "text/html": [
       "<div>\n",
       "<style scoped>\n",
       "    .dataframe tbody tr th:only-of-type {\n",
       "        vertical-align: middle;\n",
       "    }\n",
       "\n",
       "    .dataframe tbody tr th {\n",
       "        vertical-align: top;\n",
       "    }\n",
       "\n",
       "    .dataframe thead th {\n",
       "        text-align: right;\n",
       "    }\n",
       "</style>\n",
       "<table border=\"1\" class=\"dataframe\">\n",
       "  <thead>\n",
       "    <tr style=\"text-align: right;\">\n",
       "      <th></th>\n",
       "      <th>user</th>\n",
       "      <th>assistant</th>\n",
       "    </tr>\n",
       "  </thead>\n",
       "  <tbody>\n",
       "    <tr>\n",
       "      <th>10512</th>\n",
       "      <td>What are the genetic changes related to Melnic...</td>\n",
       "      <td>Mutations in the FLNA gene cause Melnick-Needl...</td>\n",
       "    </tr>\n",
       "    <tr>\n",
       "      <th>13070</th>\n",
       "      <td>What is (are) SOST-related sclerosing bone dys...</td>\n",
       "      <td>SOST-related sclerosing bone dysplasia is a di...</td>\n",
       "    </tr>\n",
       "    <tr>\n",
       "      <th>521</th>\n",
       "      <td>What are the treatments for Stroke ?</td>\n",
       "      <td>With stroke, treatment depends on the stage of...</td>\n",
       "    </tr>\n",
       "    <tr>\n",
       "      <th>8714</th>\n",
       "      <td>What is (are) Locked-In Syndrome ?</td>\n",
       "      <td>Locked-in syndrome is a rare neurological diso...</td>\n",
       "    </tr>\n",
       "    <tr>\n",
       "      <th>14518</th>\n",
       "      <td>Is cystic fibrosis inherited ?</td>\n",
       "      <td>This condition is inherited in an autosomal re...</td>\n",
       "    </tr>\n",
       "    <tr>\n",
       "      <th>...</th>\n",
       "      <td>...</td>\n",
       "      <td>...</td>\n",
       "    </tr>\n",
       "    <tr>\n",
       "      <th>11284</th>\n",
       "      <td>What are the treatments for Langer mesomelic d...</td>\n",
       "      <td>These resources address the diagnosis or manag...</td>\n",
       "    </tr>\n",
       "    <tr>\n",
       "      <th>11964</th>\n",
       "      <td>What are the treatments for hereditary xanthin...</td>\n",
       "      <td>These resources address the diagnosis or manag...</td>\n",
       "    </tr>\n",
       "    <tr>\n",
       "      <th>5390</th>\n",
       "      <td>What are the symptoms of Hallermann-Streiff sy...</td>\n",
       "      <td>What are the signs and symptoms of Hallermann-...</td>\n",
       "    </tr>\n",
       "    <tr>\n",
       "      <th>860</th>\n",
       "      <td>Who is at risk for Uterine Sarcoma? ?</td>\n",
       "      <td>Being exposed to x-rays can increase the risk ...</td>\n",
       "    </tr>\n",
       "    <tr>\n",
       "      <th>15795</th>\n",
       "      <td>What is (are) Cirrhosis ?</td>\n",
       "      <td>Cirrhosis is a condition in which the liver sl...</td>\n",
       "    </tr>\n",
       "  </tbody>\n",
       "</table>\n",
       "<p>3283 rows × 2 columns</p>\n",
       "</div>"
      ],
      "text/plain": [
       "                                                    user  \\\n",
       "10512  What are the genetic changes related to Melnic...   \n",
       "13070  What is (are) SOST-related sclerosing bone dys...   \n",
       "521                 What are the treatments for Stroke ?   \n",
       "8714                  What is (are) Locked-In Syndrome ?   \n",
       "14518                     Is cystic fibrosis inherited ?   \n",
       "...                                                  ...   \n",
       "11284  What are the treatments for Langer mesomelic d...   \n",
       "11964  What are the treatments for hereditary xanthin...   \n",
       "5390   What are the symptoms of Hallermann-Streiff sy...   \n",
       "860                Who is at risk for Uterine Sarcoma? ?   \n",
       "15795                          What is (are) Cirrhosis ?   \n",
       "\n",
       "                                               assistant  \n",
       "10512  Mutations in the FLNA gene cause Melnick-Needl...  \n",
       "13070  SOST-related sclerosing bone dysplasia is a di...  \n",
       "521    With stroke, treatment depends on the stage of...  \n",
       "8714   Locked-in syndrome is a rare neurological diso...  \n",
       "14518  This condition is inherited in an autosomal re...  \n",
       "...                                                  ...  \n",
       "11284  These resources address the diagnosis or manag...  \n",
       "11964  These resources address the diagnosis or manag...  \n",
       "5390   What are the signs and symptoms of Hallermann-...  \n",
       "860    Being exposed to x-rays can increase the risk ...  \n",
       "15795  Cirrhosis is a condition in which the liver sl...  \n",
       "\n",
       "[3283 rows x 2 columns]"
      ]
     },
     "execution_count": 6,
     "metadata": {},
     "output_type": "execute_result"
    }
   ],
   "source": [
    "test"
   ]
  },
  {
   "cell_type": "code",
   "execution_count": null,
   "metadata": {},
   "outputs": [],
   "source": []
  }
 ],
 "metadata": {
  "kernelspec": {
   "display_name": "env",
   "language": "python",
   "name": "python3"
  },
  "language_info": {
   "codemirror_mode": {
    "name": "ipython",
    "version": 3
   },
   "file_extension": ".py",
   "mimetype": "text/x-python",
   "name": "python",
   "nbconvert_exporter": "python",
   "pygments_lexer": "ipython3",
   "version": "3.11.7"
  }
 },
 "nbformat": 4,
 "nbformat_minor": 2
}
