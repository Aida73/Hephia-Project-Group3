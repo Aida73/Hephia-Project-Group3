{
 "cells": [
  {
   "cell_type": "code",
   "execution_count": 14,
   "metadata": {},
   "outputs": [],
   "source": [
    "import requests\n",
    "import time\n",
    "from dotenv import load_dotenv\n",
    "import os\n",
    "import pandas as pd\n",
    "from unidecode import unidecode"
   ]
  },
  {
   "cell_type": "code",
   "execution_count": 3,
   "metadata": {},
   "outputs": [],
   "source": [
    "test_data = pd.read_csv(\"../../TestLLM/data/data.csv\")"
   ]
  },
  {
   "cell_type": "code",
   "execution_count": 4,
   "metadata": {},
   "outputs": [
    {
     "data": {
      "text/html": [
       "<div>\n",
       "<style scoped>\n",
       "    .dataframe tbody tr th:only-of-type {\n",
       "        vertical-align: middle;\n",
       "    }\n",
       "\n",
       "    .dataframe tbody tr th {\n",
       "        vertical-align: top;\n",
       "    }\n",
       "\n",
       "    .dataframe thead th {\n",
       "        text-align: right;\n",
       "    }\n",
       "</style>\n",
       "<table border=\"1\" class=\"dataframe\">\n",
       "  <thead>\n",
       "    <tr style=\"text-align: right;\">\n",
       "      <th></th>\n",
       "      <th>Unnamed: 0</th>\n",
       "      <th>Question</th>\n",
       "      <th>Answers</th>\n",
       "    </tr>\n",
       "  </thead>\n",
       "  <tbody>\n",
       "    <tr>\n",
       "      <th>0</th>\n",
       "      <td>58</td>\n",
       "      <td>What are the symptoms of Parkinson's Disease?</td>\n",
       "      <td>Treatment includes medications (levodopa) and ...</td>\n",
       "    </tr>\n",
       "    <tr>\n",
       "      <th>1</th>\n",
       "      <td>117</td>\n",
       "      <td>How is HIV/AIDS diagnosed?</td>\n",
       "      <td>Treatment includes antiretroviral therapy (ART...</td>\n",
       "    </tr>\n",
       "    <tr>\n",
       "      <th>2</th>\n",
       "      <td>166</td>\n",
       "      <td>How can I manage my Dengue Fever?</td>\n",
       "      <td>Diagnosis involves blood tests to detect the v...</td>\n",
       "    </tr>\n",
       "    <tr>\n",
       "      <th>3</th>\n",
       "      <td>278</td>\n",
       "      <td>Can Glaucoma be prevented?</td>\n",
       "      <td>Preventing Glaucoma involves regular eye exams...</td>\n",
       "    </tr>\n",
       "    <tr>\n",
       "      <th>4</th>\n",
       "      <td>261</td>\n",
       "      <td>Can Endometriosis be prevented?</td>\n",
       "      <td>Endometriosis is caused by the abnormal growth...</td>\n",
       "    </tr>\n",
       "    <tr>\n",
       "      <th>5</th>\n",
       "      <td>205</td>\n",
       "      <td>How can I manage my Multiple Sclerosis?</td>\n",
       "      <td>Parkinson's Disease symptoms include tremors, ...</td>\n",
       "    </tr>\n",
       "    <tr>\n",
       "      <th>6</th>\n",
       "      <td>135</td>\n",
       "      <td>How is Cancer diagnosed?</td>\n",
       "      <td>Symptoms vary depending on the type and stage ...</td>\n",
       "    </tr>\n",
       "    <tr>\n",
       "      <th>7</th>\n",
       "      <td>260</td>\n",
       "      <td>What treatment options are available for Endom...</td>\n",
       "      <td>Managing Endometriosis involves pain managemen...</td>\n",
       "    </tr>\n",
       "    <tr>\n",
       "      <th>8</th>\n",
       "      <td>5</td>\n",
       "      <td>How can I manage my Diabetes?</td>\n",
       "      <td>Medication adherence, blood sugar monitoring.</td>\n",
       "    </tr>\n",
       "    <tr>\n",
       "      <th>9</th>\n",
       "      <td>162</td>\n",
       "      <td>How is Dengue Fever diagnosed?</td>\n",
       "      <td>Lifestyle changes include avoiding alcohol, pr...</td>\n",
       "    </tr>\n",
       "  </tbody>\n",
       "</table>\n",
       "</div>"
      ],
      "text/plain": [
       "   Unnamed: 0                                           Question  \\\n",
       "0          58      What are the symptoms of Parkinson's Disease?   \n",
       "1         117                         How is HIV/AIDS diagnosed?   \n",
       "2         166                  How can I manage my Dengue Fever?   \n",
       "3         278                         Can Glaucoma be prevented?   \n",
       "4         261                    Can Endometriosis be prevented?   \n",
       "5         205            How can I manage my Multiple Sclerosis?   \n",
       "6         135                           How is Cancer diagnosed?   \n",
       "7         260  What treatment options are available for Endom...   \n",
       "8           5                      How can I manage my Diabetes?   \n",
       "9         162                     How is Dengue Fever diagnosed?   \n",
       "\n",
       "                                             Answers  \n",
       "0  Treatment includes medications (levodopa) and ...  \n",
       "1  Treatment includes antiretroviral therapy (ART...  \n",
       "2  Diagnosis involves blood tests to detect the v...  \n",
       "3  Preventing Glaucoma involves regular eye exams...  \n",
       "4  Endometriosis is caused by the abnormal growth...  \n",
       "5  Parkinson's Disease symptoms include tremors, ...  \n",
       "6  Symptoms vary depending on the type and stage ...  \n",
       "7  Managing Endometriosis involves pain managemen...  \n",
       "8      Medication adherence, blood sugar monitoring.  \n",
       "9  Lifestyle changes include avoiding alcohol, pr...  "
      ]
     },
     "execution_count": 4,
     "metadata": {},
     "output_type": "execute_result"
    }
   ],
   "source": [
    "test_data"
   ]
  },
  {
   "cell_type": "code",
   "execution_count": 15,
   "metadata": {},
   "outputs": [],
   "source": [
    "load_dotenv()\n",
    "URL_MODEL = os.getenv(\"URL_MODEL\")\n",
    "\n",
    "def getResponseFromMistralFinetuning(question):\n",
    "    data = {\"question\": question}\n",
    "    t1= time.time()\n",
    "    response = requests.post(URL_MODEL, json=data, timeout=100.0)\n",
    "    t2=time.time()\n",
    "    if response.status_code == 200:\n",
    "        return {\"response\":unidecode(response.text), \"time\":t2-t1}\n",
    "    return response.text"
   ]
  },
  {
   "cell_type": "code",
   "execution_count": 16,
   "metadata": {},
   "outputs": [],
   "source": [
    "def getResponse(question,reponse_attendue):\n",
    "  response = getResponseFromMistralFinetuning(question)\n",
    "  new_row={'Model':'Mistral-7B-Finetuning', 'Questions':question, 'Reponses':response['response'], 'Temps':response['time'], 'Reponses_Attendues':reponse_attendue}\n",
    "  return new_row"
   ]
  },
  {
   "cell_type": "code",
   "execution_count": 17,
   "metadata": {},
   "outputs": [],
   "source": [
    "list_data_mistral_finetuning=[]\n",
    "for i in range(len(test_data)):\n",
    "   list_data_mistral_finetuning.append(getResponse(test_data.iloc[i]['Question'],test_data.iloc[i]['Answers']))"
   ]
  },
  {
   "cell_type": "code",
   "execution_count": 18,
   "metadata": {},
   "outputs": [],
   "source": [
    "df_mistral_finetuning = pd.DataFrame(data=list_data_mistral_finetuning)\n",
    "df_mistral_finetuning.to_csv('../../TestLLM/data/mistral_finetuning_test.csv', index=False)"
   ]
  },
  {
   "cell_type": "code",
   "execution_count": 21,
   "metadata": {},
   "outputs": [
    {
     "data": {
      "text/html": [
       "<div>\n",
       "<style scoped>\n",
       "    .dataframe tbody tr th:only-of-type {\n",
       "        vertical-align: middle;\n",
       "    }\n",
       "\n",
       "    .dataframe tbody tr th {\n",
       "        vertical-align: top;\n",
       "    }\n",
       "\n",
       "    .dataframe thead th {\n",
       "        text-align: right;\n",
       "    }\n",
       "</style>\n",
       "<table border=\"1\" class=\"dataframe\">\n",
       "  <thead>\n",
       "    <tr style=\"text-align: right;\">\n",
       "      <th></th>\n",
       "      <th>Model</th>\n",
       "      <th>Questions</th>\n",
       "      <th>Reponses</th>\n",
       "      <th>Temps</th>\n",
       "      <th>Reponses_Attendues</th>\n",
       "    </tr>\n",
       "  </thead>\n",
       "  <tbody>\n",
       "    <tr>\n",
       "      <th>10</th>\n",
       "      <td>Meditron</td>\n",
       "      <td>What are the symptoms of Parkinson's Disease?</td>\n",
       "      <td>What are the symptoms of Parkinson's Disease?\\...</td>\n",
       "      <td>22.334797</td>\n",
       "      <td>Treatment includes medications (levodopa) and ...</td>\n",
       "    </tr>\n",
       "    <tr>\n",
       "      <th>11</th>\n",
       "      <td>Meditron</td>\n",
       "      <td>How is HIV/AIDS diagnosed?</td>\n",
       "      <td>How is HIV/AIDS diagnosed?\\nHIV infection can ...</td>\n",
       "      <td>23.392662</td>\n",
       "      <td>Treatment includes antiretroviral therapy (ART...</td>\n",
       "    </tr>\n",
       "    <tr>\n",
       "      <th>12</th>\n",
       "      <td>Meditron</td>\n",
       "      <td>How can I manage my Dengue Fever?</td>\n",
       "      <td>How can I manage my Dengue Fever?\\nHow can I m...</td>\n",
       "      <td>22.964650</td>\n",
       "      <td>Diagnosis involves blood tests to detect the v...</td>\n",
       "    </tr>\n",
       "    <tr>\n",
       "      <th>13</th>\n",
       "      <td>Meditron</td>\n",
       "      <td>Can Glaucoma be prevented?</td>\n",
       "      <td>Can Glaucoma be prevented? A qualitative study...</td>\n",
       "      <td>22.754100</td>\n",
       "      <td>Preventing Glaucoma involves regular eye exams...</td>\n",
       "    </tr>\n",
       "    <tr>\n",
       "      <th>14</th>\n",
       "      <td>Meditron</td>\n",
       "      <td>Can Endometriosis be prevented?</td>\n",
       "      <td>Can Endometriosis be prevented?\\nThe most impo...</td>\n",
       "      <td>22.679845</td>\n",
       "      <td>Endometriosis is caused by the abnormal growth...</td>\n",
       "    </tr>\n",
       "    <tr>\n",
       "      <th>15</th>\n",
       "      <td>Meditron</td>\n",
       "      <td>How can I manage my Multiple Sclerosis?</td>\n",
       "      <td>How can I manage my Multiple Sclerosis?\".\\n\\n#...</td>\n",
       "      <td>22.650548</td>\n",
       "      <td>Parkinson's Disease symptoms include tremors, ...</td>\n",
       "    </tr>\n",
       "    <tr>\n",
       "      <th>16</th>\n",
       "      <td>Meditron</td>\n",
       "      <td>How is Cancer diagnosed?</td>\n",
       "      <td>How is Cancer diagnosed?\\nDuring a physical ex...</td>\n",
       "      <td>22.775442</td>\n",
       "      <td>Symptoms vary depending on the type and stage ...</td>\n",
       "    </tr>\n",
       "    <tr>\n",
       "      <th>17</th>\n",
       "      <td>Meditron</td>\n",
       "      <td>What treatment options are available for Endom...</td>\n",
       "      <td>What treatment options are available for Endom...</td>\n",
       "      <td>23.628584</td>\n",
       "      <td>Managing Endometriosis involves pain managemen...</td>\n",
       "    </tr>\n",
       "    <tr>\n",
       "      <th>18</th>\n",
       "      <td>Meditron</td>\n",
       "      <td>How can I manage my Diabetes?</td>\n",
       "      <td>How can I manage my Diabetes?\\nWe’re here to h...</td>\n",
       "      <td>34.046091</td>\n",
       "      <td>Medication adherence, blood sugar monitoring.</td>\n",
       "    </tr>\n",
       "    <tr>\n",
       "      <th>19</th>\n",
       "      <td>Meditron</td>\n",
       "      <td>How is Dengue Fever diagnosed?</td>\n",
       "      <td>How is Dengue Fever diagnosed?\\nHow long does ...</td>\n",
       "      <td>24.812676</td>\n",
       "      <td>Lifestyle changes include avoiding alcohol, pr...</td>\n",
       "    </tr>\n",
       "  </tbody>\n",
       "</table>\n",
       "</div>"
      ],
      "text/plain": [
       "       Model                                          Questions  \\\n",
       "10  Meditron      What are the symptoms of Parkinson's Disease?   \n",
       "11  Meditron                         How is HIV/AIDS diagnosed?   \n",
       "12  Meditron                  How can I manage my Dengue Fever?   \n",
       "13  Meditron                         Can Glaucoma be prevented?   \n",
       "14  Meditron                    Can Endometriosis be prevented?   \n",
       "15  Meditron            How can I manage my Multiple Sclerosis?   \n",
       "16  Meditron                           How is Cancer diagnosed?   \n",
       "17  Meditron  What treatment options are available for Endom...   \n",
       "18  Meditron                      How can I manage my Diabetes?   \n",
       "19  Meditron                     How is Dengue Fever diagnosed?   \n",
       "\n",
       "                                             Reponses      Temps  \\\n",
       "10  What are the symptoms of Parkinson's Disease?\\...  22.334797   \n",
       "11  How is HIV/AIDS diagnosed?\\nHIV infection can ...  23.392662   \n",
       "12  How can I manage my Dengue Fever?\\nHow can I m...  22.964650   \n",
       "13  Can Glaucoma be prevented? A qualitative study...  22.754100   \n",
       "14  Can Endometriosis be prevented?\\nThe most impo...  22.679845   \n",
       "15  How can I manage my Multiple Sclerosis?\".\\n\\n#...  22.650548   \n",
       "16  How is Cancer diagnosed?\\nDuring a physical ex...  22.775442   \n",
       "17  What treatment options are available for Endom...  23.628584   \n",
       "18  How can I manage my Diabetes?\\nWe’re here to h...  34.046091   \n",
       "19  How is Dengue Fever diagnosed?\\nHow long does ...  24.812676   \n",
       "\n",
       "                                   Reponses_Attendues  \n",
       "10  Treatment includes medications (levodopa) and ...  \n",
       "11  Treatment includes antiretroviral therapy (ART...  \n",
       "12  Diagnosis involves blood tests to detect the v...  \n",
       "13  Preventing Glaucoma involves regular eye exams...  \n",
       "14  Endometriosis is caused by the abnormal growth...  \n",
       "15  Parkinson's Disease symptoms include tremors, ...  \n",
       "16  Symptoms vary depending on the type and stage ...  \n",
       "17  Managing Endometriosis involves pain managemen...  \n",
       "18      Medication adherence, blood sugar monitoring.  \n",
       "19  Lifestyle changes include avoiding alcohol, pr...  "
      ]
     },
     "execution_count": 21,
     "metadata": {},
     "output_type": "execute_result"
    }
   ],
   "source": [
    "meditron_df = pd.read_csv('../../TestLLM/data/results_gpt35_meditron.csv')\n",
    "meditron_df = meditron_df.loc[meditron_df['Model']==\"Meditron\"]\n",
    "meditron_df"
   ]
  },
  {
   "cell_type": "code",
   "execution_count": 23,
   "metadata": {},
   "outputs": [
    {
     "name": "stdout",
     "output_type": "stream",
     "text": [
      "Model                                             Mistral-7B-Finetuning\n",
      "Questions                 What are the symptoms of Parkinson's Disease?\n",
      "Reponses              \" The four main symptoms of Parkinsons disease...\n",
      "Temps                                                         19.126295\n",
      "Reponses_Attendues    Treatment includes medications (levodopa) and ...\n",
      "Name: 0, dtype: object\n"
     ]
    }
   ],
   "source": [
    "print(df_mistral_finetuning.iloc[0])"
   ]
  },
  {
   "cell_type": "code",
   "execution_count": 25,
   "metadata": {},
   "outputs": [
    {
     "name": "stdout",
     "output_type": "stream",
     "text": [
      "3.9413936853408815\n"
     ]
    }
   ],
   "source": [
    "print(df_mistral_finetuning['Temps'].mean())"
   ]
  },
  {
   "cell_type": "code",
   "execution_count": 26,
   "metadata": {},
   "outputs": [
    {
     "name": "stdout",
     "output_type": "stream",
     "text": [
      "24.203939509391784\n"
     ]
    }
   ],
   "source": [
    "print(meditron_df['Temps'].mean())"
   ]
  },
  {
   "cell_type": "code",
   "execution_count": null,
   "metadata": {},
   "outputs": [],
   "source": []
  }
 ],
 "metadata": {
  "kernelspec": {
   "display_name": "env",
   "language": "python",
   "name": "python3"
  },
  "language_info": {
   "codemirror_mode": {
    "name": "ipython",
    "version": 3
   },
   "file_extension": ".py",
   "mimetype": "text/x-python",
   "name": "python",
   "nbconvert_exporter": "python",
   "pygments_lexer": "ipython3",
   "version": "3.11.7"
  }
 },
 "nbformat": 4,
 "nbformat_minor": 2
}
